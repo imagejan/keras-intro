{
 "cells": [
  {
   "cell_type": "markdown",
   "metadata": {},
   "source": [
    "# Setup"
   ]
  },
  {
   "cell_type": "code",
   "execution_count": 1,
   "metadata": {
    "collapsed": true
   },
   "outputs": [],
   "source": [
    "import numpy as np\n",
    "import matplotlib.pyplot as plt\n",
    "from IPython import display\n",
    "%matplotlib inline"
   ]
  },
  {
   "cell_type": "code",
   "execution_count": 2,
   "metadata": {
    "collapsed": true
   },
   "outputs": [],
   "source": [
    "import seaborn as sns\n",
    "sns.set_style('whitegrid')\n",
    "colors = sns.color_palette()\n",
    "plt.rc('figure', figsize=(6.0, 4.0))"
   ]
  },
  {
   "cell_type": "code",
   "execution_count": 3,
   "metadata": {
    "collapsed": false
   },
   "outputs": [
    {
     "name": "stderr",
     "output_type": "stream",
     "text": [
      "Using TensorFlow backend.\n"
     ]
    }
   ],
   "source": [
    "import keras\n",
    "from keras import backend as K\n",
    "from keras.models import Sequential, Model\n",
    "from keras.layers import Input, Dense, Activation\n",
    "from keras.optimizers import Adam\n",
    "from keras.callbacks import LambdaCallback\n",
    "from keras.utils import np_utils"
   ]
  },
  {
   "cell_type": "code",
   "execution_count": 4,
   "metadata": {
    "collapsed": true
   },
   "outputs": [],
   "source": [
    "def plot_callback(func,p=20):\n",
    "    def plot_epoch_end(epoch,logs):\n",
    "        if epoch == 0 or (epoch+1) % p == 0:\n",
    "            plt.clf(); func(); plt.title('epoch %d' % (epoch+1))\n",
    "            display.clear_output(wait=True); display.display(plt.gcf())\n",
    "    def clear(*args):\n",
    "        plt.clf()\n",
    "    return LambdaCallback(on_epoch_end=plot_epoch_end,on_train_end=clear)"
   ]
  },
  {
   "cell_type": "code",
   "execution_count": 5,
   "metadata": {
    "collapsed": true
   },
   "outputs": [],
   "source": [
    "def plot_loss_acc(hist):\n",
    "    plt.figure(figsize=(12,3));\n",
    "    if len(hist.params['metrics']) == 2:\n",
    "        plt.subplot(121); plt.semilogy(hist.epoch,hist.history['loss'])\n",
    "        plt.xlabel('epoch'); plt.ylabel('loss'); plt.legend(['train'],loc='upper right')\n",
    "        plt.subplot(122); plt.plot(hist.epoch,hist.history['acc']);\n",
    "        plt.xlabel('epoch'); plt.ylabel('accuracy'); plt.legend(['train'],loc='lower right');\n",
    "    else:\n",
    "        plt.subplot(121); plt.semilogy(hist.epoch,hist.history['loss'], hist.epoch,hist.history['val_loss']);\n",
    "        plt.xlabel('epoch'); plt.ylabel('loss'); plt.legend(['train','test'],loc='upper right')\n",
    "        plt.subplot(122); plt.plot(hist.epoch,hist.history['acc'], hist.epoch,hist.history['val_acc'])\n",
    "        plt.xlabel('epoch'); plt.ylabel('accuracy'); plt.legend(['train','test'],loc='lower right');    "
   ]
  },
  {
   "cell_type": "markdown",
   "metadata": {},
   "source": [
    "---\n",
    "\n",
    "Adapted from http://blog.fastforwardlabs.com/2016/02/24/hello-world-in-keras-or-scikit-learn-versus.html\n",
    "\n",
    "---"
   ]
  },
  {
   "cell_type": "markdown",
   "metadata": {},
   "source": [
    "# Dataset\n",
    "\n",
    "[Iris flower data set](https://en.wikipedia.org/wiki/Iris_flower_data_set)"
   ]
  },
  {
   "cell_type": "code",
   "execution_count": 6,
   "metadata": {
    "collapsed": false
   },
   "outputs": [
    {
     "data": {
      "text/html": [
       "<div>\n",
       "<table border=\"1\" class=\"dataframe\">\n",
       "  <thead>\n",
       "    <tr style=\"text-align: right;\">\n",
       "      <th></th>\n",
       "      <th>sepal_length</th>\n",
       "      <th>sepal_width</th>\n",
       "      <th>petal_length</th>\n",
       "      <th>petal_width</th>\n",
       "      <th>species</th>\n",
       "    </tr>\n",
       "  </thead>\n",
       "  <tbody>\n",
       "    <tr>\n",
       "      <th>105</th>\n",
       "      <td>7.6</td>\n",
       "      <td>3.0</td>\n",
       "      <td>6.6</td>\n",
       "      <td>2.1</td>\n",
       "      <td>virginica</td>\n",
       "    </tr>\n",
       "    <tr>\n",
       "      <th>104</th>\n",
       "      <td>6.5</td>\n",
       "      <td>3.0</td>\n",
       "      <td>5.8</td>\n",
       "      <td>2.2</td>\n",
       "      <td>virginica</td>\n",
       "    </tr>\n",
       "    <tr>\n",
       "      <th>57</th>\n",
       "      <td>4.9</td>\n",
       "      <td>2.4</td>\n",
       "      <td>3.3</td>\n",
       "      <td>1.0</td>\n",
       "      <td>versicolor</td>\n",
       "    </tr>\n",
       "    <tr>\n",
       "      <th>76</th>\n",
       "      <td>6.8</td>\n",
       "      <td>2.8</td>\n",
       "      <td>4.8</td>\n",
       "      <td>1.4</td>\n",
       "      <td>versicolor</td>\n",
       "    </tr>\n",
       "    <tr>\n",
       "      <th>101</th>\n",
       "      <td>5.8</td>\n",
       "      <td>2.7</td>\n",
       "      <td>5.1</td>\n",
       "      <td>1.9</td>\n",
       "      <td>virginica</td>\n",
       "    </tr>\n",
       "    <tr>\n",
       "      <th>120</th>\n",
       "      <td>6.9</td>\n",
       "      <td>3.2</td>\n",
       "      <td>5.7</td>\n",
       "      <td>2.3</td>\n",
       "      <td>virginica</td>\n",
       "    </tr>\n",
       "    <tr>\n",
       "      <th>113</th>\n",
       "      <td>5.7</td>\n",
       "      <td>2.5</td>\n",
       "      <td>5.0</td>\n",
       "      <td>2.0</td>\n",
       "      <td>virginica</td>\n",
       "    </tr>\n",
       "    <tr>\n",
       "      <th>61</th>\n",
       "      <td>5.9</td>\n",
       "      <td>3.0</td>\n",
       "      <td>4.2</td>\n",
       "      <td>1.5</td>\n",
       "      <td>versicolor</td>\n",
       "    </tr>\n",
       "    <tr>\n",
       "      <th>54</th>\n",
       "      <td>6.5</td>\n",
       "      <td>2.8</td>\n",
       "      <td>4.6</td>\n",
       "      <td>1.5</td>\n",
       "      <td>versicolor</td>\n",
       "    </tr>\n",
       "    <tr>\n",
       "      <th>82</th>\n",
       "      <td>5.8</td>\n",
       "      <td>2.7</td>\n",
       "      <td>3.9</td>\n",
       "      <td>1.2</td>\n",
       "      <td>versicolor</td>\n",
       "    </tr>\n",
       "  </tbody>\n",
       "</table>\n",
       "</div>"
      ],
      "text/plain": [
       "     sepal_length  sepal_width  petal_length  petal_width     species\n",
       "105           7.6          3.0           6.6          2.1   virginica\n",
       "104           6.5          3.0           5.8          2.2   virginica\n",
       "57            4.9          2.4           3.3          1.0  versicolor\n",
       "76            6.8          2.8           4.8          1.4  versicolor\n",
       "101           5.8          2.7           5.1          1.9   virginica\n",
       "120           6.9          3.2           5.7          2.3   virginica\n",
       "113           5.7          2.5           5.0          2.0   virginica\n",
       "61            5.9          3.0           4.2          1.5  versicolor\n",
       "54            6.5          2.8           4.6          1.5  versicolor\n",
       "82            5.8          2.7           3.9          1.2  versicolor"
      ]
     },
     "execution_count": 6,
     "metadata": {},
     "output_type": "execute_result"
    }
   ],
   "source": [
    "iris = sns.load_dataset(\"iris\")\n",
    "iris.sample(10)"
   ]
  },
  {
   "cell_type": "markdown",
   "metadata": {},
   "source": [
    "Image from https://commons.wikimedia.org/wiki/File:Petal-sepal.jpg\n",
    "![](https://upload.wikimedia.org/wikipedia/commons/thumb/7/78/Petal-sepal.jpg/451px-Petal-sepal.jpg)"
   ]
  },
  {
   "cell_type": "code",
   "execution_count": 7,
   "metadata": {
    "collapsed": false
   },
   "outputs": [
    {
     "data": {
      "image/png": "[encoded data removed]",
      "text/plain": [
       "<matplotlib.figure.Figure at 0x7f3a9814b490>"
      ]
     },
     "metadata": {},
     "output_type": "display_data"
    }
   ],
   "source": [
    "sns.pairplot(iris, hue='species');"
   ]
  },
  {
   "cell_type": "markdown",
   "metadata": {},
   "source": [
    "## Label Encoding"
   ]
  },
  {
   "cell_type": "code",
   "execution_count": 8,
   "metadata": {
    "collapsed": true
   },
   "outputs": [],
   "source": [
    "def label_encode(arr):\n",
    "    uniques, ids = np.unique(arr, return_inverse=True)\n",
    "    return ids"
   ]
  },
  {
   "cell_type": "code",
   "execution_count": 9,
   "metadata": {
    "collapsed": false
   },
   "outputs": [
    {
     "name": "stdout",
     "output_type": "stream",
     "text": [
      "    setosa → 0\n",
      "versicolor → 1\n",
      " virginica → 2\n"
     ]
    }
   ],
   "source": [
    "classes = ('setosa', 'versicolor', 'virginica')\n",
    "labels  = label_encode(classes)\n",
    "for i,c in enumerate(classes):\n",
    "    print '%10s → %d' % (c, labels[i] )"
   ]
  },
  {
   "cell_type": "code",
   "execution_count": 10,
   "metadata": {
    "collapsed": true
   },
   "outputs": [],
   "source": [
    "def onehot_encode(arr):\n",
    "    uniques, ids = np.unique(arr, return_inverse=True)\n",
    "    return np_utils.to_categorical(ids, len(uniques))"
   ]
  },
  {
   "cell_type": "code",
   "execution_count": 11,
   "metadata": {
    "collapsed": false
   },
   "outputs": [
    {
     "name": "stdout",
     "output_type": "stream",
     "text": [
      "    setosa → [1,0,0]\n",
      "versicolor → [0,1,0]\n",
      " virginica → [0,0,1]\n"
     ]
    }
   ],
   "source": [
    "classes = ('setosa', 'versicolor', 'virginica')\n",
    "onehot = onehot_encode(classes)\n",
    "for i,c in enumerate(classes):\n",
    "    print '%10s → [%d,%d,%d]' % (c, onehot[i,0], onehot[i,1], onehot[i,2] )"
   ]
  },
  {
   "cell_type": "markdown",
   "metadata": {},
   "source": [
    "# Multiclass Classification"
   ]
  },
  {
   "cell_type": "markdown",
   "metadata": {},
   "source": [
    "## Data subset (1 feature only)"
   ]
  },
  {
   "cell_type": "code",
   "execution_count": 12,
   "metadata": {
    "collapsed": false
   },
   "outputs": [],
   "source": [
    "data = iris\n",
    "feature_name = 'petal_length'\n",
    "data = data[[feature_name,'species']]"
   ]
  },
  {
   "cell_type": "code",
   "execution_count": 13,
   "metadata": {
    "collapsed": false,
    "scrolled": false
   },
   "outputs": [],
   "source": [
    "X    = data.values[:,0]\n",
    "y    = label_encode(data.values[:,1])\n",
    "y_oh = onehot_encode(data.values[:,1])\n",
    "N    = len(y)"
   ]
  },
  {
   "cell_type": "markdown",
   "metadata": {},
   "source": [
    "## Plotting"
   ]
  },
  {
   "cell_type": "code",
   "execution_count": 14,
   "metadata": {
    "collapsed": false
   },
   "outputs": [
    {
     "data": {
      "image/png": "[encoded data removed]",
      "text/plain": [
       "<matplotlib.figure.Figure at 0x7f3a5fe5b910>"
      ]
     },
     "metadata": {},
     "output_type": "display_data"
    }
   ],
   "source": [
    "R = np.linspace(X.min()-1,X.max()+1,100)\n",
    "Xp = np.zeros(X.shape[0])-.1\n",
    "Rp = np.zeros(R.shape[0])-.2\n",
    "def plot_all(model=None):\n",
    "    plt.scatter(X, Xp, c=y, cmap='jet');\n",
    "    plt.xlabel(feature_name)\n",
    "    if model is not None:\n",
    "        prob = model.predict(R)\n",
    "        yhat = np.argmax(prob,axis=1)\n",
    "        plt.scatter(R, Rp, c=yhat, cmap='jet');\n",
    "        plt.plot(R,prob)\n",
    "        leg = plt.legend(map(lambda s:'p(\"%s\")'%s,classes),loc='upper center',frameon=False,ncol=3)\n",
    "    plt.xlim(X.min()-1.5,X.max()+1.5)\n",
    "    plt.ylim(-.4,1.2)\n",
    "plot_all()"
   ]
  },
  {
   "cell_type": "markdown",
   "metadata": {},
   "source": [
    "## Model (Logistic Regression)\n",
    "\n",
    "- https://en.wikipedia.org/wiki/Multinomial_logistic_regression\n",
    "- https://en.wikipedia.org/wiki/Softmax_function\n",
    "- https://en.wikipedia.org/wiki/Cross_entropy"
   ]
  },
  {
   "cell_type": "code",
   "execution_count": 15,
   "metadata": {
    "collapsed": false
   },
   "outputs": [
    {
     "name": "stdout",
     "output_type": "stream",
     "text": [
      "_________________________________________________________________\n",
      "Layer (type)                 Output Shape              Param #   \n",
      "=================================================================\n",
      "dense_1 (Dense)              (None, 16)                32        \n",
      "_________________________________________________________________\n",
      "activation_1 (Activation)    (None, 16)                0         \n",
      "_________________________________________________________________\n",
      "dense_2 (Dense)              (None, 3)                 51        \n",
      "_________________________________________________________________\n",
      "activation_2 (Activation)    (None, 3)                 0         \n",
      "=================================================================\n",
      "Total params: 83\n",
      "Trainable params: 83\n",
      "Non-trainable params: 0\n",
      "_________________________________________________________________\n"
     ]
    }
   ],
   "source": [
    "model = Sequential()\n",
    "model.add(Dense(16, input_shape=(1,)))\n",
    "model.add(Activation('tanh'))\n",
    "model.add(Dense(3))\n",
    "model.add(Activation('softmax'))\n",
    "model.compile(loss='categorical_crossentropy', optimizer='adam', metrics=['accuracy'])\n",
    "model.summary()"
   ]
  },
  {
   "cell_type": "markdown",
   "metadata": {},
   "source": [
    "### Softmax\n",
    "\n",
    "Converts arbitrary \"scores\" to normalized probabilities:\n",
    "$\n",
    "\\large\n",
    "\\sigma(\\mathbf{z})_i = \\frac{\\exp(z_i)}{\\sum_j \\exp(z_j)}\n",
    "$\n",
    "\n",
    "Example: for $\\mathbf{z} = [0.451, -0.599, 0.006]$, we get\n",
    "$\\sigma(\\mathbf{z}) = [ 0.50232021,  0.1757808 ,  0.32189899]$."
   ]
  },
  {
   "cell_type": "markdown",
   "metadata": {},
   "source": [
    "### Cross entropy\n",
    "\n",
    "$H(p, q) = \\operatorname{E}_p[-\\log q] = H(p) + D_{\\mathrm{KL}}(p \\| q)$\n",
    "defines then cross entropy for distributions $p$ and $q$, where\n",
    "- $H(p)$ is the entropy of $p$, and\n",
    "- $D_{\\mathrm{KL}}(p \\| q)$ is the Kullback–Leibler divergence of $q$ from $p$."
   ]
  },
  {
   "cell_type": "code",
   "execution_count": 16,
   "metadata": {
    "collapsed": false,
    "scrolled": false
   },
   "outputs": [
    {
     "data": {
      "image/png": "[encoded data removed]",
      "text/plain": [
       "<matplotlib.figure.Figure at 0x7f3a5de4ad10>"
      ]
     },
     "metadata": {},
     "output_type": "display_data"
    },
    {
     "data": {
      "text/plain": [
       "<matplotlib.figure.Figure at 0x7f3a5de4ad10>"
      ]
     },
     "metadata": {},
     "output_type": "display_data"
    }
   ],
   "source": [
    "hist = model.fit(X,y_oh,batch_size=5,epochs=300,verbose=0,\n",
    "                 callbacks=[plot_callback(lambda:plot_all(model))]);"
   ]
  },
  {
   "cell_type": "code",
   "execution_count": 17,
   "metadata": {
    "collapsed": false
   },
   "outputs": [
    {
     "data": {
      "image/png": "[encoded data removed]",
      "text/plain": [
       "<matplotlib.figure.Figure at 0x7f3a7803c350>"
      ]
     },
     "metadata": {},
     "output_type": "display_data"
    }
   ],
   "source": [
    "plot_loss_acc(hist)"
   ]
  },
  {
   "cell_type": "markdown",
   "metadata": {
    "collapsed": true
   },
   "source": [
    "## Full dataset (all 4 features)"
   ]
  },
  {
   "cell_type": "markdown",
   "metadata": {},
   "source": [
    "Use all features and split dataset in train and test subsets:"
   ]
  },
  {
   "cell_type": "code",
   "execution_count": 18,
   "metadata": {
    "collapsed": false,
    "scrolled": false
   },
   "outputs": [],
   "source": [
    "N = iris.shape[0] # number of data points / table rows\n",
    "data = iris.sample(N,replace=False) # shuffle data\n",
    "X    = data.values[:,0:4]\n",
    "y_oh = onehot_encode(data.values[:,4])\n",
    "\n",
    "N_train = N/2 # random 50/50 train/test split\n",
    "X_train, y_train = X[:N_train], y_oh[:N_train]\n",
    "X_test,  y_test  = X[N_train:], y_oh[N_train:]"
   ]
  },
  {
   "cell_type": "code",
   "execution_count": 19,
   "metadata": {
    "collapsed": false
   },
   "outputs": [
    {
     "name": "stdout",
     "output_type": "stream",
     "text": [
      "_________________________________________________________________\n",
      "Layer (type)                 Output Shape              Param #   \n",
      "=================================================================\n",
      "dense_3 (Dense)              (None, 16)                80        \n",
      "_________________________________________________________________\n",
      "activation_3 (Activation)    (None, 16)                0         \n",
      "_________________________________________________________________\n",
      "dense_4 (Dense)              (None, 3)                 51        \n",
      "_________________________________________________________________\n",
      "activation_4 (Activation)    (None, 3)                 0         \n",
      "=================================================================\n",
      "Total params: 131\n",
      "Trainable params: 131\n",
      "Non-trainable params: 0\n",
      "_________________________________________________________________\n"
     ]
    }
   ],
   "source": [
    "model = Sequential()\n",
    "model.add(Dense(16, input_shape=(4,)))\n",
    "model.add(Activation('tanh'))\n",
    "model.add(Dense(3))\n",
    "model.add(Activation('softmax'))\n",
    "model.compile(loss='categorical_crossentropy', optimizer='adam', metrics=['accuracy'])\n",
    "model.summary()"
   ]
  },
  {
   "cell_type": "code",
   "execution_count": 20,
   "metadata": {
    "collapsed": false,
    "scrolled": false
   },
   "outputs": [],
   "source": [
    "hist = model.fit(X_train, y_train, validation_data=(X_test,y_test), epochs=200, verbose=0, batch_size=5)"
   ]
  },
  {
   "cell_type": "code",
   "execution_count": 21,
   "metadata": {
    "collapsed": false
   },
   "outputs": [
    {
     "data": {
      "image/png": "[encoded data removed]",
      "text/plain": [
       "<matplotlib.figure.Figure at 0x7f3a5ffb44d0>"
      ]
     },
     "metadata": {},
     "output_type": "display_data"
    }
   ],
   "source": [
    "plot_loss_acc(hist)"
   ]
  },
  {
   "cell_type": "code",
   "execution_count": 22,
   "metadata": {
    "collapsed": false
   },
   "outputs": [
    {
     "name": "stdout",
     "output_type": "stream",
     "text": [
      "train set: loss = 0.07572, accuracy = 0.98667\n",
      "test  set: loss = 0.09608, accuracy = 0.96000\n"
     ]
    }
   ],
   "source": [
    "loss, accuracy = model.evaluate(X_train, y_train, verbose=0)\n",
    "print 'train set: loss = %.5f, accuracy = %.5f' % (loss,accuracy)\n",
    "loss, accuracy = model.evaluate(X_test, y_test, verbose=0)\n",
    "print 'test  set: loss = %.5f, accuracy = %.5f' % (loss,accuracy)"
   ]
  },
  {
   "cell_type": "markdown",
   "metadata": {},
   "source": [
    "## Overfitting"
   ]
  },
  {
   "cell_type": "code",
   "execution_count": 23,
   "metadata": {
    "collapsed": true
   },
   "outputs": [],
   "source": [
    "N_train = 20 # only 20 of 150 samples for training, rest for testing\n",
    "X_train, y_train = X[:N_train], y_oh[:N_train]\n",
    "X_test,  y_test  = X[N_train:], y_oh[N_train:]"
   ]
  },
  {
   "cell_type": "code",
   "execution_count": 24,
   "metadata": {
    "collapsed": false
   },
   "outputs": [
    {
     "name": "stdout",
     "output_type": "stream",
     "text": [
      "_________________________________________________________________\n",
      "Layer (type)                 Output Shape              Param #   \n",
      "=================================================================\n",
      "dense_5 (Dense)              (None, 16)                80        \n",
      "_________________________________________________________________\n",
      "activation_5 (Activation)    (None, 16)                0         \n",
      "_________________________________________________________________\n",
      "dense_6 (Dense)              (None, 16)                272       \n",
      "_________________________________________________________________\n",
      "activation_6 (Activation)    (None, 16)                0         \n",
      "_________________________________________________________________\n",
      "dense_7 (Dense)              (None, 16)                272       \n",
      "_________________________________________________________________\n",
      "activation_7 (Activation)    (None, 16)                0         \n",
      "_________________________________________________________________\n",
      "dense_8 (Dense)              (None, 3)                 51        \n",
      "_________________________________________________________________\n",
      "activation_8 (Activation)    (None, 3)                 0         \n",
      "=================================================================\n",
      "Total params: 675\n",
      "Trainable params: 675\n",
      "Non-trainable params: 0\n",
      "_________________________________________________________________\n"
     ]
    }
   ],
   "source": [
    "model = Sequential()\n",
    "model.add(Dense(16, input_shape=(4,)))\n",
    "model.add(Activation('tanh'))\n",
    "model.add(Dense(16))\n",
    "model.add(Activation('tanh'))\n",
    "model.add(Dense(16))\n",
    "model.add(Activation('tanh'))\n",
    "model.add(Dense(3))\n",
    "model.add(Activation('softmax'))\n",
    "model.compile(loss='categorical_crossentropy', optimizer='adam', metrics=['accuracy'])\n",
    "model.summary()"
   ]
  },
  {
   "cell_type": "code",
   "execution_count": 25,
   "metadata": {
    "collapsed": false
   },
   "outputs": [],
   "source": [
    "hist = model.fit(X_train, y_train, validation_data=(X_test,y_test), epochs=1000, verbose=0, batch_size=5)"
   ]
  },
  {
   "cell_type": "code",
   "execution_count": 26,
   "metadata": {
    "collapsed": false
   },
   "outputs": [
    {
     "data": {
      "image/png": "[encoded data removed]",
      "text/plain": [
       "<matplotlib.figure.Figure at 0x7f3a780d1650>"
      ]
     },
     "metadata": {},
     "output_type": "display_data"
    }
   ],
   "source": [
    "plot_loss_acc(hist)"
   ]
  },
  {
   "cell_type": "code",
   "execution_count": 27,
   "metadata": {
    "collapsed": false
   },
   "outputs": [
    {
     "name": "stdout",
     "output_type": "stream",
     "text": [
      "train set: loss = 0.00048, accuracy = 1.00000\n",
      "test  set: loss = 0.16897, accuracy = 0.96154\n"
     ]
    }
   ],
   "source": [
    "loss, accuracy = model.evaluate(X_train, y_train, verbose=0)\n",
    "print 'train set: loss = %.5f, accuracy = %.5f' % (loss,accuracy)\n",
    "loss, accuracy = model.evaluate(X_test, y_test, verbose=0)\n",
    "print 'test  set: loss = %.5f, accuracy = %.5f' % (loss,accuracy)"
   ]
  }
 ],
 "metadata": {
  "anaconda-cloud": {},
  "kernelspec": {
   "display_name": "Python [default]",
   "language": "python",
   "name": "python2"
  },
  "language_info": {
   "codemirror_mode": {
    "name": "ipython",
    "version": 2
   },
   "file_extension": ".py",
   "mimetype": "text/x-python",
   "name": "python",
   "nbconvert_exporter": "python",
   "pygments_lexer": "ipython2",
   "version": "2.7.12"
  },
  "widgets": {
   "state": {
    "014cd8465a96444f915a66d01e25dd72": {
     "views": [
      {
       "cell_index": 33
      }
     ]
    },
    "075edaa53ab0411daea60ba8c7828670": {
     "views": [
      {
       "cell_index": 33
      }
     ]
    },
    "0a224f3a13fd4313aa31afe071c59edf": {
     "views": [
      {
       "cell_index": 33
      }
     ]
    },
    "0a355b1ccfa14c51aec0dccb3bde53b0": {
     "views": [
      {
       "cell_index": 33
      }
     ]
    },
    "0a35b0a6609345bc9d8ebfaf35f0a9cd": {
     "views": [
      {
       "cell_index": 33
      }
     ]
    },
    "0c437093822a4b7bbabfbaab4903d77c": {
     "views": [
      {
       "cell_index": 33
      }
     ]
    },
    "0d104a9df2964b158386254abdaf3e24": {
     "views": [
      {
       "cell_index": 33
      }
     ]
    },
    "0e132edbf4ec4819927873b7926db575": {
     "views": [
      {
       "cell_index": 33
      }
     ]
    },
    "0f071e67080b453aae779153ca5088db": {
     "views": [
      {
       "cell_index": 33
      }
     ]
    },
    "0f8cab4e8e8e49ec843f756fe562d87d": {
     "views": [
      {
       "cell_index": 33
      }
     ]
    },
    "1055d57355744ec1a78c721ff12d0260": {
     "views": [
      {
       "cell_index": 33
      }
     ]
    },
    "10842e18ef38430c914e5a91464905f3": {
     "views": [
      {
       "cell_index": 33
      }
     ]
    },
    "118dc75a305c4527b8a686c705ed9072": {
     "views": [
      {
       "cell_index": 33
      }
     ]
    },
    "11e0ae812e7648f4a0cebaeb505b66d3": {
     "views": [
      {
       "cell_index": 33
      }
     ]
    },
    "1208cd273875426ba9f0e34ae95b97eb": {
     "views": [
      {
       "cell_index": 33
      }
     ]
    },
    "1373131c956649d9b55289ced196d036": {
     "views": [
      {
       "cell_index": 33
      }
     ]
    },
    "1384affb108e455faa05b951348ca7bc": {
     "views": [
      {
       "cell_index": 33
      }
     ]
    },
    "1629d188658a434598fd68339bf02f9f": {
     "views": [
      {
       "cell_index": 33
      }
     ]
    },
    "166c07063c1d4e7e8b23f80e575ebaa0": {
     "views": [
      {
       "cell_index": 33
      }
     ]
    },
    "188ae834b1de452d8fbc4740063503b4": {
     "views": [
      {
       "cell_index": 33
      }
     ]
    },
    "1a31dae01e1846e78f4707ff6df4932c": {
     "views": [
      {
       "cell_index": 33
      }
     ]
    },
    "1bb81cbc3ae64fce8e6f591adceb6f78": {
     "views": [
      {
       "cell_index": 33
      }
     ]
    },
    "1df370e275d14b72ac55bd262ae8f45c": {
     "views": [
      {
       "cell_index": 33
      }
     ]
    },
    "1e33c72bc93e4878b8f95e7b69dc0893": {
     "views": [
      {
       "cell_index": 33
      }
     ]
    },
    "1f34270cb74e4ba2933d8dc1b3dbadfa": {
     "views": [
      {
       "cell_index": 33
      }
     ]
    },
    "213b4ba147f34615b7c1cacf804d870c": {
     "views": [
      {
       "cell_index": 33
      }
     ]
    },
    "2217367a9cc0459895aa46bd54360c23": {
     "views": [
      {
       "cell_index": 33
      }
     ]
    },
    "23bfe7df27104eb4ae7147d4f0633d3d": {
     "views": [
      {
       "cell_index": 33
      }
     ]
    },
    "23d57d5376f5422ba23c3fd378d48332": {
     "views": [
      {
       "cell_index": 33
      }
     ]
    },
    "247fea23e8a5405e82c15998347d45bd": {
     "views": [
      {
       "cell_index": 33
      }
     ]
    },
    "252f524908b440c8a2f7e5291856b781": {
     "views": [
      {
       "cell_index": 33
      }
     ]
    },
    "26b96ea1a72d4918ad18589b3cc77863": {
     "views": [
      {
       "cell_index": 33
      }
     ]
    },
    "29aeb2c70beb4650a3c24114304d7666": {
     "views": [
      {
       "cell_index": 33
      }
     ]
    },
    "2b4167d0556e4205925b34383c8dc794": {
     "views": [
      {
       "cell_index": 33
      }
     ]
    },
    "2b69d8e9df4246a498ae017bc72377e5": {
     "views": [
      {
       "cell_index": 33
      }
     ]
    },
    "2cff3b18ffa54b85b8021ebeedad753c": {
     "views": [
      {
       "cell_index": 33
      }
     ]
    },
    "2dbdb5bf9dff4b8682f6077606841fe1": {
     "views": [
      {
       "cell_index": 33
      }
     ]
    },
    "2e033fe5ffcc4b46900e158e9160416e": {
     "views": [
      {
       "cell_index": 33
      }
     ]
    },
    "2fb73e19e1f54c8db86db8d0f709ab0e": {
     "views": [
      {
       "cell_index": 33
      }
     ]
    },
    "2fe10a43468a4d8faf7dbe92488ed0d5": {
     "views": [
      {
       "cell_index": 33
      }
     ]
    },
    "2fedcc77adf0433c8e257fcdd36f5480": {
     "views": [
      {
       "cell_index": 33
      }
     ]
    },
    "329c767e57e94b288a4b4f975c9e339d": {
     "views": [
      {
       "cell_index": 33
      }
     ]
    },
    "33f9d79422c847adb019309943072d78": {
     "views": [
      {
       "cell_index": 33
      }
     ]
    },
    "3469f293c923493ab273ea25907d451f": {
     "views": [
      {
       "cell_index": 33
      }
     ]
    },
    "3589a925580044c99c19b4956dd27577": {
     "views": [
      {
       "cell_index": 33
      }
     ]
    },
    "3917117becf44238bee1f7689e0f1baa": {
     "views": [
      {
       "cell_index": 33
      }
     ]
    },
    "398db8acd66e4aac9ab5a506ab2bfd59": {
     "views": [
      {
       "cell_index": 33
      }
     ]
    },
    "39bf2323c0f84cb6839ae75ec0ba95e6": {
     "views": [
      {
       "cell_index": 33
      }
     ]
    },
    "3a60dde6628548738dc3ef86461037f9": {
     "views": [
      {
       "cell_index": 33
      }
     ]
    },
    "3a661a4ed54241c189ef2cbeea44cc96": {
     "views": [
      {
       "cell_index": 33
      }
     ]
    },
    "3b09248a580c4ccba3abc303568124a4": {
     "views": [
      {
       "cell_index": 33
      }
     ]
    },
    "3b445cc286eb4848a885e8fe1e36bfec": {
     "views": [
      {
       "cell_index": 33
      }
     ]
    },
    "3d1d1148b10d4e59bbf3e3ab5ff47e84": {
     "views": [
      {
       "cell_index": 33
      }
     ]
    },
    "3d3af13bd07a45f68248919277871654": {
     "views": [
      {
       "cell_index": 33
      }
     ]
    },
    "3df2837f0f064ef5af16f5378270f075": {
     "views": [
      {
       "cell_index": 33
      }
     ]
    },
    "3eb40dca995441b1b6301169770c9980": {
     "views": [
      {
       "cell_index": 33
      }
     ]
    },
    "3fecba5c6d4b435c95cbc2cc17c3cc64": {
     "views": [
      {
       "cell_index": 33
      }
     ]
    },
    "42f77aee3f064b6f9fce862286f4e8bb": {
     "views": [
      {
       "cell_index": 33
      }
     ]
    },
    "43a98ecd549241029648b853b086e425": {
     "views": [
      {
       "cell_index": 33
      }
     ]
    },
    "43d8e04cb39146b2856165c11644e26c": {
     "views": [
      {
       "cell_index": 33
      }
     ]
    },
    "45ba4c3336a745bc8b9ce0edfa76819f": {
     "views": [
      {
       "cell_index": 33
      }
     ]
    },
    "47f5140a56564914873ec4bc52b07d64": {
     "views": [
      {
       "cell_index": 33
      }
     ]
    },
    "47fa298a09904f149aea34fcacb16d6c": {
     "views": [
      {
       "cell_index": 33
      }
     ]
    },
    "47ffa614272745dba5f876f02d1dd4b4": {
     "views": [
      {
       "cell_index": 33
      }
     ]
    },
    "4933baf665014425a8ac7b64423ecaeb": {
     "views": [
      {
       "cell_index": 33
      }
     ]
    },
    "4973e98a2f464db98a2a8f4283ed8d21": {
     "views": [
      {
       "cell_index": 33
      }
     ]
    },
    "4a2a97f09207473ab1348b301a56d5cc": {
     "views": [
      {
       "cell_index": 33
      }
     ]
    },
    "4c29682df7304292a151ac93489094c3": {
     "views": [
      {
       "cell_index": 33
      }
     ]
    },
    "4c803a2005194ea2bdf59cddd95ec00d": {
     "views": [
      {
       "cell_index": 33
      }
     ]
    },
    "4e1e8b64906a49e4a7b69efb3f89159a": {
     "views": [
      {
       "cell_index": 33
      }
     ]
    },
    "4e86c536b2aa4362bfcf4970f63eac2c": {
     "views": [
      {
       "cell_index": 33
      }
     ]
    },
    "4ede5f0ddcbe49928c75fa3b835c3e83": {
     "views": [
      {
       "cell_index": 33
      }
     ]
    },
    "50286c96a0aa4d79b539f55b48fdfa5a": {
     "views": [
      {
       "cell_index": 33
      }
     ]
    },
    "50b82b28608c46558e63133da779a82f": {
     "views": [
      {
       "cell_index": 33
      }
     ]
    },
    "50de5c9fdd8d44bdb89c8891724d7a82": {
     "views": [
      {
       "cell_index": 33
      }
     ]
    },
    "514a057309fe428caf724e9687356a6b": {
     "views": [
      {
       "cell_index": 33
      }
     ]
    },
    "539d8ec9ddd4459bad3ae844cc7eb29b": {
     "views": [
      {
       "cell_index": 33
      }
     ]
    },
    "5457caab3f074a67b33292d789454fab": {
     "views": [
      {
       "cell_index": 33
      }
     ]
    },
    "54b8629001994381bac0c4c22a17532f": {
     "views": [
      {
       "cell_index": 33
      }
     ]
    },
    "562365ca0b444813b76d5902eac3c62a": {
     "views": [
      {
       "cell_index": 33
      }
     ]
    },
    "5742a1e99fe54ee5ac826dff0731c751": {
     "views": [
      {
       "cell_index": 33
      }
     ]
    },
    "57d7904bc56f453d9d59a69c369f3bac": {
     "views": [
      {
       "cell_index": 33
      }
     ]
    },
    "5867c65d152d44eb81e65577e0f13a0a": {
     "views": [
      {
       "cell_index": 33
      }
     ]
    },
    "5944b4000aa748588fc59ec1cc057ad4": {
     "views": [
      {
       "cell_index": 33
      }
     ]
    },
    "5a4c00da75ee4c068222757ccd2a57c0": {
     "views": [
      {
       "cell_index": 33
      }
     ]
    },
    "5d49d9b7656d461c8c849716e7d79511": {
     "views": [
      {
       "cell_index": 33
      }
     ]
    },
    "5ed53d1d7e5846d583130e5e65c75db4": {
     "views": [
      {
       "cell_index": 33
      }
     ]
    },
    "609dab21656b4a5aa96a750e7a554953": {
     "views": [
      {
       "cell_index": 33
      }
     ]
    },
    "624c0bbfc1d14325b29ada77e225882a": {
     "views": [
      {
       "cell_index": 33
      }
     ]
    },
    "62e6b3b6a93d44f49eb31a618fb4fc6b": {
     "views": [
      {
       "cell_index": 33
      }
     ]
    },
    "65193d0a65774547b98eb11c790c6c86": {
     "views": [
      {
       "cell_index": 33
      }
     ]
    },
    "65f3e84fc3764c5499cdc2c03afa2de6": {
     "views": [
      {
       "cell_index": 33
      }
     ]
    },
    "669bdcebdc1e4c8ba456a3af38a82bc1": {
     "views": [
      {
       "cell_index": 33
      }
     ]
    },
    "6704a34479104f358db8a9d2baf015b0": {
     "views": [
      {
       "cell_index": 33
      }
     ]
    },
    "68911080894a4d4882c40e574a525bfb": {
     "views": [
      {
       "cell_index": 33
      }
     ]
    },
    "6920396c36c3439898994d48511ebcaf": {
     "views": [
      {
       "cell_index": 33
      }
     ]
    },
    "6aee300742f34158a805549928f2dd7b": {
     "views": [
      {
       "cell_index": 33
      }
     ]
    },
    "6bdcdcb293b14014af98b5a316e174b5": {
     "views": [
      {
       "cell_index": 33
      }
     ]
    },
    "6c78beb965c7476da3447ac1c77268b4": {
     "views": [
      {
       "cell_index": 33
      }
     ]
    },
    "6e6e40960bfd42788c26963c813a9f1a": {
     "views": [
      {
       "cell_index": 33
      }
     ]
    },
    "7117fe018ae34cc7a5ec1bb24869f955": {
     "views": [
      {
       "cell_index": 33
      }
     ]
    },
    "713d3cc64a394063bd9172bc9f80da1b": {
     "views": [
      {
       "cell_index": 33
      }
     ]
    },
    "71e1c8a5111a4c0fbe4daa685c8cf9e1": {
     "views": [
      {
       "cell_index": 33
      }
     ]
    },
    "72c190ae33b143c4a213794ab4dc66dc": {
     "views": [
      {
       "cell_index": 33
      }
     ]
    },
    "7352049940a34acaaff0ff7b1091d893": {
     "views": [
      {
       "cell_index": 33
      }
     ]
    },
    "745374700388487e931f1a7998c07647": {
     "views": [
      {
       "cell_index": 33
      }
     ]
    },
    "76d39069e87043dca4d9ca8b151da182": {
     "views": [
      {
       "cell_index": 33
      }
     ]
    },
    "7712748079f34072bde1cf2daedf81b5": {
     "views": [
      {
       "cell_index": 33
      }
     ]
    },
    "77e1123dc7074c32af7462ab65c0da18": {
     "views": [
      {
       "cell_index": 33
      }
     ]
    },
    "79fada5d398340a6844c808920eb0fdc": {
     "views": [
      {
       "cell_index": 33
      }
     ]
    },
    "7a830bdebcf447779ddac3b4a248a42e": {
     "views": [
      {
       "cell_index": 33
      }
     ]
    },
    "7bea89e830dd46a08f648f91d0746a9d": {
     "views": [
      {
       "cell_index": 33
      }
     ]
    },
    "83388e3f056a4e91aa8c0d6672f88b49": {
     "views": [
      {
       "cell_index": 33
      }
     ]
    },
    "85a34516dcab4790b1f4da9c3601024d": {
     "views": [
      {
       "cell_index": 33
      }
     ]
    },
    "87e7204f8f304c7c9cb4c2824f4333d1": {
     "views": [
      {
       "cell_index": 33
      }
     ]
    },
    "8ad2b4ac21b047a09a35576bf6ac2c9d": {
     "views": [
      {
       "cell_index": 33
      }
     ]
    },
    "8c3b7ff832d143f486c211828c083976": {
     "views": [
      {
       "cell_index": 33
      }
     ]
    },
    "8c815734cd394d53a42ce0d6ee7bede6": {
     "views": [
      {
       "cell_index": 33
      }
     ]
    },
    "8e62495a16af42308aac15e885253dc8": {
     "views": [
      {
       "cell_index": 33
      }
     ]
    },
    "8eccd827e5ad436f992171ba954d44c3": {
     "views": [
      {
       "cell_index": 33
      }
     ]
    },
    "937608ce4dbb48e59d75c35b5fbc6573": {
     "views": [
      {
       "cell_index": 33
      }
     ]
    },
    "94e199f08c1947f69edaece91b9cdf70": {
     "views": [
      {
       "cell_index": 33
      }
     ]
    },
    "96c457ce50824f4f94773946e3b01669": {
     "views": [
      {
       "cell_index": 33
      }
     ]
    },
    "96f0055fd93e42608460865a7b72963a": {
     "views": [
      {
       "cell_index": 33
      }
     ]
    },
    "980bda07f7ba43d9963a36584dc3e8cd": {
     "views": [
      {
       "cell_index": 33
      }
     ]
    },
    "98384c8e619a46e4b9c61b0080b5c76f": {
     "views": [
      {
       "cell_index": 33
      }
     ]
    },
    "9909634b44184c84922812d49b3fd2ca": {
     "views": [
      {
       "cell_index": 33
      }
     ]
    },
    "9a53caaed92548438c7b3fc11e334c3a": {
     "views": [
      {
       "cell_index": 33
      }
     ]
    },
    "9a846dcfa4324fe0a3ef43005bfa2a07": {
     "views": [
      {
       "cell_index": 33
      }
     ]
    },
    "9ba4dd7d04434e4aaab17a4f877a2045": {
     "views": [
      {
       "cell_index": 33
      }
     ]
    },
    "9bff48009c564d92ad574c8333603676": {
     "views": [
      {
       "cell_index": 33
      }
     ]
    },
    "9d01504f86034e4eb148df59f8ef0af3": {
     "views": [
      {
       "cell_index": 33
      }
     ]
    },
    "9d82710ff28d4533965f7a540747e69e": {
     "views": [
      {
       "cell_index": 33
      }
     ]
    },
    "9e993df170ca4a13b87efb169723c291": {
     "views": [
      {
       "cell_index": 33
      }
     ]
    },
    "9f3ae6dd06244e76a6c07e577e114043": {
     "views": [
      {
       "cell_index": 33
      }
     ]
    },
    "9fdafbbc5a704225a5d1595d511ca4f5": {
     "views": [
      {
       "cell_index": 33
      }
     ]
    },
    "a0f321c31a8f43f7aa4de12a74edc102": {
     "views": [
      {
       "cell_index": 33
      }
     ]
    },
    "a2214599ec534c7b8eea848ddeae7053": {
     "views": [
      {
       "cell_index": 33
      }
     ]
    },
    "a4c24a17b5c047d6adac25dc8f611710": {
     "views": [
      {
       "cell_index": 33
      }
     ]
    },
    "a531b87082644ac4a2b0c37a3aaa42b4": {
     "views": [
      {
       "cell_index": 33
      }
     ]
    },
    "a6e68e05af0e41caa46012815028df24": {
     "views": [
      {
       "cell_index": 33
      }
     ]
    },
    "a888abf2ccc74562928129168d8496b0": {
     "views": [
      {
       "cell_index": 33
      }
     ]
    },
    "a975012d7a404a89ad418b139bd281c9": {
     "views": [
      {
       "cell_index": 33
      }
     ]
    },
    "aa682ad48afa4a3a8cac8e040b4f63a3": {
     "views": [
      {
       "cell_index": 33
      }
     ]
    },
    "ac6a20536e144edfa82111bed9dac051": {
     "views": [
      {
       "cell_index": 33
      }
     ]
    },
    "ad05d88738b44fe886c44cd2debf45ce": {
     "views": [
      {
       "cell_index": 33
      }
     ]
    },
    "ad1daec547014e64beb8850def2b6751": {
     "views": [
      {
       "cell_index": 33
      }
     ]
    },
    "ad698ad0841f48fe8adbdcc3a2d1e113": {
     "views": [
      {
       "cell_index": 33
      }
     ]
    },
    "ad9f4af0ff454894b561608cb4cd9fa2": {
     "views": [
      {
       "cell_index": 33
      }
     ]
    },
    "ae8b3ae57d8b4d03a1e757c301b053c8": {
     "views": [
      {
       "cell_index": 33
      }
     ]
    },
    "aeb450b151d14d1da5f490ef20b5991e": {
     "views": [
      {
       "cell_index": 33
      }
     ]
    },
    "b31746e33746479fb3b76cd86244f882": {
     "views": [
      {
       "cell_index": 33
      }
     ]
    },
    "b40129e43bf94198b2b52b8a10b37b5a": {
     "views": [
      {
       "cell_index": 33
      }
     ]
    },
    "b4d0c5be57d44ac9895f8e88a5782ffa": {
     "views": [
      {
       "cell_index": 33
      }
     ]
    },
    "b5e0e17a2a3046e1baccad9acc608807": {
     "views": [
      {
       "cell_index": 33
      }
     ]
    },
    "b8963a04c4384e7b9910920e8a3140e1": {
     "views": [
      {
       "cell_index": 33
      }
     ]
    },
    "b8e50cc214a248ddb94267bb2499b09f": {
     "views": [
      {
       "cell_index": 33
      }
     ]
    },
    "b94476f742614841a73f8a37609faeae": {
     "views": [
      {
       "cell_index": 33
      }
     ]
    },
    "ba81b2d7d4a244cdbbd155088428ebf6": {
     "views": [
      {
       "cell_index": 33
      }
     ]
    },
    "bc3606521ecc4a69ac040f19597ed903": {
     "views": [
      {
       "cell_index": 33
      }
     ]
    },
    "bd82fdaadd3843a7b35fa9072b617545": {
     "views": [
      {
       "cell_index": 33
      }
     ]
    },
    "bda16cb7e0ff461fa9a173dd1c7a88ab": {
     "views": [
      {
       "cell_index": 33
      }
     ]
    },
    "c1660cdde1a946acb7d7bd60a509bf6e": {
     "views": [
      {
       "cell_index": 33
      }
     ]
    },
    "c298e759a15c4f37939b39ba5aff862c": {
     "views": [
      {
       "cell_index": 33
      }
     ]
    },
    "c329e96a0dae466c930b3501a20ef05d": {
     "views": [
      {
       "cell_index": 33
      }
     ]
    },
    "c36458869ddf42a9ba81decaa0404f75": {
     "views": [
      {
       "cell_index": 33
      }
     ]
    },
    "c4e0e7f4afb84fd7af2d9beba81acd6a": {
     "views": [
      {
       "cell_index": 33
      }
     ]
    },
    "c53dc6778a9643739597e8d21999a1b9": {
     "views": [
      {
       "cell_index": 33
      }
     ]
    },
    "c6b50b0f21854aa8ad002f2d44d42dd1": {
     "views": [
      {
       "cell_index": 33
      }
     ]
    },
    "c7bc16dba6fc4dbcb4cc6cb4ad663298": {
     "views": [
      {
       "cell_index": 33
      }
     ]
    },
    "c87618bb91744ff8bef9afcbbb7fd922": {
     "views": [
      {
       "cell_index": 33
      }
     ]
    },
    "c8a59ea1422f42f4b8319baee11ac1c1": {
     "views": [
      {
       "cell_index": 33
      }
     ]
    },
    "c8c479cf0e72424889c1cc8251347c52": {
     "views": [
      {
       "cell_index": 33
      }
     ]
    },
    "c8d631214aed451ab9a9033e48508e03": {
     "views": [
      {
       "cell_index": 33
      }
     ]
    },
    "cbda1bc0263140048ec3611e77b65853": {
     "views": [
      {
       "cell_index": 33
      }
     ]
    },
    "cbf981bd31b44f61beea7eb646bf173e": {
     "views": [
      {
       "cell_index": 33
      }
     ]
    },
    "cdf8bf27fe1648ec9371da802528f35d": {
     "views": [
      {
       "cell_index": 33
      }
     ]
    },
    "cdfed7d9983e42bca0d9c7268bb02f52": {
     "views": [
      {
       "cell_index": 33
      }
     ]
    },
    "d0968effd4c540ee8b4289b4446a815f": {
     "views": [
      {
       "cell_index": 33
      }
     ]
    },
    "d1d770d9ee2b4ddc829f2b0ada3443f4": {
     "views": [
      {
       "cell_index": 33
      }
     ]
    },
    "d21f5dbe061c402aad319748d7897385": {
     "views": [
      {
       "cell_index": 33
      }
     ]
    },
    "d446340a7b8a493d92b3bd1a2922af68": {
     "views": [
      {
       "cell_index": 33
      }
     ]
    },
    "d4db6a067fc94c759e5c2a02b57c5eab": {
     "views": [
      {
       "cell_index": 33
      }
     ]
    },
    "d50f6228a63e4cb5a5944c29dce24f18": {
     "views": [
      {
       "cell_index": 33
      }
     ]
    },
    "d533fca4d73144b590e6e149e0b537a5": {
     "views": [
      {
       "cell_index": 33
      }
     ]
    },
    "d69eb5ae2fd2467abc305b50d9dd652a": {
     "views": [
      {
       "cell_index": 33
      }
     ]
    },
    "d75b7d4a21d6450aa81ccdbf92a81ab6": {
     "views": [
      {
       "cell_index": 33
      }
     ]
    },
    "d7c0f069bb2d484ba2df41dbcdbf8eb6": {
     "views": [
      {
       "cell_index": 33
      }
     ]
    },
    "d85ed71a613a41ecb51259b47457cf05": {
     "views": [
      {
       "cell_index": 33
      }
     ]
    },
    "dd05b2ebefd74b69aafdd85d451a1a30": {
     "views": [
      {
       "cell_index": 33
      }
     ]
    },
    "dd633cc588de449690461a3df9e68874": {
     "views": [
      {
       "cell_index": 33
      }
     ]
    },
    "dd87bc4177f04ba3a209d895e7112cf9": {
     "views": [
      {
       "cell_index": 33
      }
     ]
    },
    "de5473cd34f94adf8144b58f2ec0dad5": {
     "views": [
      {
       "cell_index": 33
      }
     ]
    },
    "e20ff931fb684a46ac350223b7aea399": {
     "views": [
      {
       "cell_index": 33
      }
     ]
    },
    "e385e82ab5fb4d49b800e2d1510e5a4a": {
     "views": [
      {
       "cell_index": 33
      }
     ]
    },
    "e4ff28aaf816437d94d2e83ea4ac2dd9": {
     "views": [
      {
       "cell_index": 33
      }
     ]
    },
    "e51d5b9925ba4f24a114d7b8b7cdc887": {
     "views": [
      {
       "cell_index": 33
      }
     ]
    },
    "e67debd9e2d64d6a9b4ff693d6f6bc37": {
     "views": [
      {
       "cell_index": 33
      }
     ]
    },
    "e68b8da5e37041d5ab13e39054db7065": {
     "views": [
      {
       "cell_index": 33
      }
     ]
    },
    "e713431a389545b7aa0c660ae1adf288": {
     "views": [
      {
       "cell_index": 33
      }
     ]
    },
    "e8ad9911849a4856b5f958e8e77e1c37": {
     "views": [
      {
       "cell_index": 33
      }
     ]
    },
    "e97c98ee50d84d5794dcd4dcc027be74": {
     "views": [
      {
       "cell_index": 33
      }
     ]
    },
    "ea478da6b3eb41f7aa35d7fa4751f40b": {
     "views": [
      {
       "cell_index": 33
      }
     ]
    },
    "ec394e955e6b4655a23375455c72ea45": {
     "views": [
      {
       "cell_index": 33
      }
     ]
    },
    "ec52c684b6b34b73b172e9db9436517d": {
     "views": [
      {
       "cell_index": 33
      }
     ]
    },
    "ec8ae3ce19b3436b92d4e7ccc27b2e9d": {
     "views": [
      {
       "cell_index": 33
      }
     ]
    },
    "f000f3d7b3734a15b14690e0c3bb2d38": {
     "views": [
      {
       "cell_index": 33
      }
     ]
    },
    "f027387d9c604a0197529462fc0684d7": {
     "views": [
      {
       "cell_index": 33
      }
     ]
    },
    "f138cedb95c54de98c516951009a4777": {
     "views": [
      {
       "cell_index": 33
      }
     ]
    },
    "f2aa238ab7264444a856570176f93cee": {
     "views": [
      {
       "cell_index": 33
      }
     ]
    },
    "f2e453772d6a4fd98c86fc6e49bb110a": {
     "views": [
      {
       "cell_index": 33
      }
     ]
    },
    "f3e5e61ef1e2420cb2f549a94329f55f": {
     "views": [
      {
       "cell_index": 33
      }
     ]
    },
    "f3ea07255e724fce800d0135fe6c2660": {
     "views": [
      {
       "cell_index": 33
      }
     ]
    },
    "f59f1c49214448db9754e8673170b641": {
     "views": [
      {
       "cell_index": 33
      }
     ]
    },
    "f6a1806ca56d4b88ab7ebbd9ef8e121c": {
     "views": [
      {
       "cell_index": 33
      }
     ]
    },
    "f87efe147cf64abd8d8c2f9d7676b71f": {
     "views": [
      {
       "cell_index": 33
      }
     ]
    },
    "fa55b735fb4f4bdb8ce6350a8b4b0b8a": {
     "views": [
      {
       "cell_index": 33
      }
     ]
    },
    "faa3a121c82b495a833643c108c30fbe": {
     "views": [
      {
       "cell_index": 33
      }
     ]
    },
    "fb8add08cc194f9d92fc48b61667cb5a": {
     "views": [
      {
       "cell_index": 33
      }
     ]
    },
    "fcad49ebe6764351a01830648e47e3df": {
     "views": [
      {
       "cell_index": 33
      }
     ]
    },
    "fd303689e5464c719c4b990c89f6d222": {
     "views": [
      {
       "cell_index": 33
      }
     ]
    },
    "fe561628bff94eeaa7be48860e66c453": {
     "views": [
      {
       "cell_index": 33
      }
     ]
    },
    "ffb8b747126b495bbfaf0edeeedda301": {
     "views": [
      {
       "cell_index": 33
      }
     ]
    },
    "ffc25d947cf14ee78669bcda1ce9aa3b": {
     "views": [
      {
       "cell_index": 33
      }
     ]
    },
    "ffc4c015e00c44d8b3ae8d3f1d7874ea": {
     "views": [
      {
       "cell_index": 33
      }
     ]
    }
   },
   "version": "1.2.0"
  }
 },
 "nbformat": 4,
 "nbformat_minor": 1
}
